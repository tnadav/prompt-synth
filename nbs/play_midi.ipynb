{
 "cells": [
  {
   "cell_type": "code",
   "execution_count": null,
   "metadata": {},
   "outputs": [],
   "source": [
    "import glob\n",
    "\n",
    "from IPython.display import Audio\n",
    "\n",
    "from audiomanip import make_osc, midi2audio\n",
    "\n",
    "midi_files = glob.glob(\"../midi/*.mid\")\n",
    "\n",
    "note_gen = make_osc(\"triangle\")\n",
    "with open(midi_files[3], \"rb\") as f:\n",
    "    audio = midi2audio(f, note_gen)\n",
    "\n",
    "Audio(audio, rate=note_gen.sample_rate)"
   ]
  },
  {
   "cell_type": "code",
   "execution_count": null,
   "metadata": {},
   "outputs": [],
   "source": [
    "import os\n",
    "\n",
    "import librosa\n",
    "\n",
    "from audiomanip import NSynthDataset, SampleNoteGenerator\n",
    "\n",
    "nsynth_data = NSynthDataset(os.path.join(\"..\", \"..\", \"nsynth-test\"))\n",
    "note = list(nsynth_data)[0]\n",
    "print(note)\n",
    "sample, sample_rate = librosa.load(note.wav_path)\n",
    "note_gen = SampleNoteGenerator.from_sample(sample, note.base_freq, sample_rate)\n",
    "with open(midi_files[3], \"rb\") as f:\n",
    "    audio = midi2audio(f, note_gen)\n",
    "\n",
    "Audio(audio, rate=note_gen.sample_rate)"
   ]
  },
  {
   "cell_type": "code",
   "execution_count": null,
   "metadata": {},
   "outputs": [],
   "source": [
    "from audiomanip import MAGNeTNoteGenerator\n",
    "\n",
    "note_gen = MAGNeTNoteGenerator.from_prompt(\"dark flute keyboard with reverb\")\n",
    "\n",
    "with open(midi_files[3], \"rb\") as f:\n",
    "    audio = midi2audio(f, note_gen)\n",
    "\n",
    "Audio(audio, rate=note_gen.sample_rate)"
   ]
  }
 ],
 "metadata": {
  "kernelspec": {
   "display_name": ".venv",
   "language": "python",
   "name": "python3"
  },
  "language_info": {
   "codemirror_mode": {
    "name": "ipython",
    "version": 3
   },
   "file_extension": ".py",
   "mimetype": "text/x-python",
   "name": "python",
   "nbconvert_exporter": "python",
   "pygments_lexer": "ipython3",
   "version": "3.11.4"
  }
 },
 "nbformat": 4,
 "nbformat_minor": 2
}
