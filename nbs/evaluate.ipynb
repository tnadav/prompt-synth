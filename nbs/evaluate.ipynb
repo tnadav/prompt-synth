{
 "cells": [
  {
   "cell_type": "markdown",
   "metadata": {},
   "source": [
    "# Setup"
   ]
  },
  {
   "cell_type": "code",
   "execution_count": null,
   "metadata": {},
   "outputs": [],
   "source": [
    "# Ubuntu environment only\n",
    "! apt install libasound2-dev portaudio19-dev"
   ]
  },
  {
   "cell_type": "code",
   "execution_count": null,
   "metadata": {},
   "outputs": [],
   "source": [
    "!git clone https://github.com/facebookresearch/audiocraft.git\n",
    "%cd audiocraft\n",
    "!pip install -e .\n",
    "\n",
    "!pip install dora-search numba\n",
    "!pip install git+https://github.com/tnadav/prompt-synth.git#subdirectory=audiomanip\n",
    "# Important to avoid version conflict\n",
    "!pip install torchvision==0.16"
   ]
  },
  {
   "cell_type": "code",
   "execution_count": null,
   "metadata": {},
   "outputs": [],
   "source": [
    "from google.colab import drive\n",
    "\n",
    "drive.mount(\"/content/drive/\")"
   ]
  },
  {
   "cell_type": "markdown",
   "metadata": {},
   "source": [
    "# Note Generation"
   ]
  },
  {
   "cell_type": "code",
   "execution_count": null,
   "metadata": {},
   "outputs": [],
   "source": [
    "import os\n",
    "\n",
    "import librosa\n",
    "import matplotlib.pyplot as plt\n",
    "import numpy as np\n",
    "import soundfile as sf\n",
    "from IPython.display import Audio, Markdown, display\n",
    "\n",
    "\n",
    "def plot_spectrogram(y, sr, title):\n",
    "    plt.figure(figsize=(10, 4))\n",
    "    spec = librosa.feature.melspectrogram(y=y, sr=sr)\n",
    "    spec_db = librosa.power_to_db(spec, ref=np.max)\n",
    "    librosa.display.specshow(spec_db, sr=sr, x_axis=\"time\", y_axis=\"mel\")\n",
    "    plt.colorbar(format=\"%+2.0f dB\")\n",
    "    plt.title(f\"{title} - Mel-frequency spectrogram\")\n",
    "    plt.xlabel(\"Time (s)\")\n",
    "    plt.ylabel(\"Frequency (Hz)\")\n",
    "    plt.show()\n",
    "\n",
    "\n",
    "def display_audio_widget(y, sr):\n",
    "    display(Audio(y, rate=sr, autoplay=False))\n",
    "\n",
    "\n",
    "def display_label(title):\n",
    "    display(Markdown(f\"### {title}\"))\n",
    "\n",
    "\n",
    "def display_sample(y, sr, title):\n",
    "    display_label(title)\n",
    "    plot_spectrogram(y, sr, title)\n",
    "    display_audio_widget(y, sr)\n",
    "\n",
    "\n",
    "def display_note_gen(note_gen, title, target_file=None):\n",
    "    y = note_gen.gen_note(\n",
    "        440.0,\n",
    "        2,\n",
    "    )\n",
    "    display_sample(y, note_gen.sample_rate, title)\n",
    "    if target_file is not None:\n",
    "        sf.write(target_file, y, note_gen.sample_rate)\n",
    "        print(f\"{title}: Audio saved to: {target_file}\")"
   ]
  },
  {
   "cell_type": "code",
   "execution_count": null,
   "metadata": {},
   "outputs": [],
   "source": [
    "AUDIO_SAMPLES_EXPORT_DIR = \"/content/drive/MyDrive/prompt-synth/samples\"\n",
    "os.makedirs(AUDIO_SAMPLES_EXPORT_DIR, exist_ok=True)"
   ]
  },
  {
   "cell_type": "markdown",
   "metadata": {},
   "source": [
    "## Single note evaluation"
   ]
  },
  {
   "cell_type": "markdown",
   "metadata": {},
   "source": [
    "### Reference"
   ]
  },
  {
   "cell_type": "code",
   "execution_count": null,
   "metadata": {},
   "outputs": [],
   "source": [
    "from audiomanip import NSynthDataset, SampleNoteGenerator, make_osc\n",
    "\n",
    "nsynth_data = NSynthDataset(\n",
    "    os.path.join(\"/content/drive/MyDrive/prompt-synth/nsynth-test\")\n",
    ")\n",
    "note = list(nsynth_data)[0]\n",
    "sample, sample_rate = librosa.load(note.wav_path)\n",
    "\n",
    "reference_note_genrators = [\n",
    "    (\"Sine Wave\", make_osc(\"sine\")),\n",
    "    (\"Sawtooth Wave\", make_osc(\"sawtooth\")),\n",
    "    (\"Square Wave\", make_osc(\"square\")),\n",
    "    (\"Triangle Wave\", make_osc(\"triangle\")),\n",
    "    (note.name, SampleNoteGenerator.from_sample(sample, note.base_freq, sample_rate)),\n",
    "]"
   ]
  },
  {
   "cell_type": "code",
   "execution_count": null,
   "metadata": {},
   "outputs": [],
   "source": [
    "export_reference = True\n",
    "output_dir = os.path.join(AUDIO_SAMPLES_EXPORT_DIR, \"reference\")\n",
    "\n",
    "if export_reference:\n",
    "    os.makedirs(output_dir, exist_ok=True)\n",
    "\n",
    "for title, note_gen in reference_note_genrators:\n",
    "    target_file = os.path.join(output_dir, f\"{title}.wav\") if export_reference else None\n",
    "    display_note_gen(note_gen, title, target_file=target_file)"
   ]
  },
  {
   "cell_type": "markdown",
   "metadata": {},
   "source": [
    "### AudioCraft"
   ]
  },
  {
   "cell_type": "code",
   "execution_count": null,
   "metadata": {},
   "outputs": [],
   "source": [
    "import os\n",
    "\n",
    "from audiomanip import ModelType, make_audiocraft_note_generator\n",
    "\n",
    "models = [\n",
    "    (ModelType.MAGNeT, \"facebook/magnet-small-10secs\"),\n",
    "    (ModelType.MAGNeT, \"magnet-nsynth-full-fixed-ext-5-epochs-8ddef1d4\"),\n",
    "    (ModelType.MAGNeT, \"magnet-nsynth-full-fixed-ext-20-epochs-d0d4466c\"),\n",
    "    (ModelType.MusicGen, \"facebook/musicgen-small\"),\n",
    "    (ModelType.MusicGen, \"musicgen-nsynth-full-fixed-ext-5-epochs-2cc84dbe\"),\n",
    "    (ModelType.MusicGen, \"musicgen-nsynth-full-fixed-ext-20-epochs-965a196a\"),\n",
    "]\n",
    "\n",
    "prompts = [\n",
    "    \"flute\",\n",
    "    \"dark flute\",\n",
    "    \"bright flute\",\n",
    "    \"keyboard flute with reverb\",\n",
    "    \"flute keyboard with reverb\",\n",
    "    \"keyboard with distortion\",\n",
    "]\n",
    "\n",
    "\n",
    "def get_audiocraft_note_generators():\n",
    "    for model_type, model_name in models:\n",
    "        path = (\n",
    "            model_name\n",
    "            if model_name.startswith(\"facebook\")\n",
    "            else os.path.join(\"/content/drive/MyDrive/prompt-synth/exports\", model_name)\n",
    "        )\n",
    "        model_note_gen = make_audiocraft_note_generator(\n",
    "            model_type,\n",
    "            path,\n",
    "        )\n",
    "\n",
    "        for prompt in prompts:\n",
    "            note_gen = model_note_gen.from_prompt(prompt)\n",
    "            yield f\"{model_name} - {prompt}\", note_gen"
   ]
  },
  {
   "cell_type": "code",
   "execution_count": null,
   "metadata": {},
   "outputs": [],
   "source": [
    "output_dir = os.path.join(AUDIO_SAMPLES_EXPORT_DIR, \"audiocraft\")\n",
    "os.makedirs(output_dir, exist_ok=True)\n",
    "\n",
    "for title, note_gen in get_audiocraft_note_generators():\n",
    "    title = title.replace(\"/\", \"_\")\n",
    "    target_file = os.path.join(output_dir, f\"{title}.wav\")\n",
    "    display_note_gen(note_gen, title, target_file=target_file)"
   ]
  },
  {
   "cell_type": "markdown",
   "metadata": {},
   "source": [
    "# MIDI to Audio"
   ]
  },
  {
   "cell_type": "markdown",
   "metadata": {},
   "source": [
    "## Reference"
   ]
  },
  {
   "cell_type": "code",
   "execution_count": null,
   "metadata": {},
   "outputs": [],
   "source": [
    "import glob\n",
    "\n",
    "from audiomanip.midi2audio import midi2audio\n",
    "\n",
    "midi_files = glob.glob(\"/content/drive/MyDrive/prompt-synth/midi/*.mid\")\n",
    "\n",
    "note_gen = make_osc(\"triangle\")\n",
    "with open(midi_files[2], \"rb\") as f:\n",
    "    audio = midi2audio(f, note_gen)\n",
    "\n",
    "display_audio_widget(audio, note_gen.sample_rate)"
   ]
  },
  {
   "cell_type": "markdown",
   "metadata": {},
   "source": [
    "## AudioCraft"
   ]
  },
  {
   "cell_type": "code",
   "execution_count": null,
   "metadata": {},
   "outputs": [],
   "source": [
    "model_note_gen = make_audiocraft_note_generator(\n",
    "    ModelType.MAGNeT,\n",
    "    os.path.join(\n",
    "        \"/content/drive/MyDrive/prompt-synth/exports\",\n",
    "        \"musicgen-nsynth-full-fixed-ext-20-epochs-965a196a\",\n",
    "    ),\n",
    ")\n",
    "\n",
    "with open(midi_files[2], \"rb\") as f:\n",
    "    audio = midi2audio(f, note_gen)\n",
    "\n",
    "display_audio_widget(audio, note_gen.sample_rate)"
   ]
  }
 ],
 "metadata": {
  "kernelspec": {
   "display_name": ".venv",
   "language": "python",
   "name": "python3"
  },
  "language_info": {
   "codemirror_mode": {
    "name": "ipython",
    "version": 3
   },
   "file_extension": ".py",
   "mimetype": "text/x-python",
   "name": "python",
   "nbconvert_exporter": "python",
   "pygments_lexer": "ipython3",
   "version": "3.11.4"
  }
 },
 "nbformat": 4,
 "nbformat_minor": 2
}
