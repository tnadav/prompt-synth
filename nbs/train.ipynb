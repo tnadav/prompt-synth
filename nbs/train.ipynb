{
 "cells": [
  {
   "cell_type": "markdown",
   "metadata": {},
   "source": [
    "# Training Setup"
   ]
  },
  {
   "cell_type": "code",
   "execution_count": null,
   "metadata": {},
   "outputs": [],
   "source": [
    "# Ubuntu environment only\n",
    "! apt install libasound2-dev portaudio19-dev"
   ]
  },
  {
   "cell_type": "markdown",
   "metadata": {},
   "source": [
    "### Setup AudioCraft"
   ]
  },
  {
   "cell_type": "code",
   "execution_count": null,
   "metadata": {},
   "outputs": [],
   "source": [
    "!git clone https://github.com/facebookresearch/audiocraft.git\n",
    "%cd audiocraft\n",
    "!pip install -e .\n",
    "AUDIOCRAFT_ROOT = \"/content/audiocraft\""
   ]
  },
  {
   "cell_type": "markdown",
   "metadata": {},
   "source": [
    "### Python dependencies"
   ]
  },
  {
   "cell_type": "code",
   "execution_count": null,
   "metadata": {},
   "outputs": [],
   "source": [
    "!pip install dora-search numba\n",
    "!pip install git+https://github.com/tnadav/prompt-synth.git#subdirectory=audiomanip\n",
    "!pip install torchvision==0.16"
   ]
  },
  {
   "cell_type": "markdown",
   "metadata": {},
   "source": [
    "### Dataset Generation"
   ]
  },
  {
   "cell_type": "code",
   "execution_count": null,
   "metadata": {},
   "outputs": [],
   "source": [
    "import yaml\n",
    "\n",
    "\n",
    "def make_dataset_yaml(\n",
    "    name: str, eval_path: str, generate_path: str, train_path: str, valid_path: str\n",
    ") -> None:\n",
    "    data = yaml.dump(\n",
    "        {\n",
    "            \"datasource\": {\n",
    "                \"max_channels\": 1,\n",
    "                \"max_sample_rate\": 32000,\n",
    "                \"evaluate\": eval_path,\n",
    "                \"generate\": generate_path,\n",
    "                \"train\": train_path,\n",
    "                \"valid\": valid_path,\n",
    "            }\n",
    "        }\n",
    "    )\n",
    "\n",
    "    with open(f\"/content/audiocraft/config/dset/audio/{name}.yaml\", \"w\") as f:\n",
    "        _package = \"package\"\n",
    "        f.write(f\"# @{_package} __global__\\n\\n\")\n",
    "        f.write(data)"
   ]
  },
  {
   "cell_type": "code",
   "execution_count": null,
   "metadata": {},
   "outputs": [],
   "source": [
    "from google.colab import drive\n",
    "\n",
    "drive.mount(\"/content/drive/\")\n",
    "\n",
    "nsynth_test = \"/content/drive/MyDrive/prompt-synth/musicgen-nsynth-test\"\n",
    "make_dataset_yaml(\n",
    "    \"nsynth-test\",\n",
    "    nsynth_test,\n",
    "    nsynth_test,\n",
    "    nsynth_test,\n",
    "    nsynth_test,\n",
    ")\n",
    "\n",
    "!rm -rf /content/audiocraft/dataset/nsynth-test\n",
    "!cp -r /content/drive/MyDrive/prompt-synth/musicgen-nsynth-test/nsynth-test /content/audiocraft/dataset/nsynth-test"
   ]
  },
  {
   "cell_type": "markdown",
   "metadata": {},
   "source": [
    "# Train using dora"
   ]
  },
  {
   "cell_type": "code",
   "execution_count": null,
   "metadata": {},
   "outputs": [],
   "source": [
    "%env USER=nadav\n",
    "%env AUDIOCRAFT_TEAM=default\n",
    "\n",
    "# clear cuda mem\n",
    "from numba import cuda\n",
    "\n",
    "device = cuda.get_current_device()\n",
    "device.reset()\n",
    "\n",
    "command = (\n",
    "    \"dora run solver=magnet/magnet_32khz\"\n",
    "    \" model/lm/model_scale=small\"\n",
    "    \" continue_from=//pretrained/facebook/magnet-small-10secs\"\n",
    "    \" conditioner=text2music\"\n",
    "    \" dset=audio/nsynth-test\"\n",
    "    \" dataset.num_workers=1\"\n",
    "    \" dataset.valid.num_samples=1\"\n",
    "    \" dataset.batch_size=1\"  # batch_size 2 with T4 resulted in OOM\n",
    "    \" schedule.cosine.warmup=8\"\n",
    "    \" optim.optimizer=adamw\"  # uses dadaw by default, which is worse for single-gpu runs\n",
    "    \" optim.lr=1e-4\"\n",
    "    \" optim.epochs=5\"  # stops training after 5 epochs- change this\n",
    "    \" optim.updates_per_epoch=1000\"  # 2000 by default, change this if you want checkpoints quicker ig\n",
    "    \" optim.adam.weight_decay=0.01\"\n",
    ")\n",
    "\n",
    "!cd /content/audiocraft\n",
    "!{command}"
   ]
  }
 ],
 "metadata": {
  "language_info": {
   "name": "python"
  }
 },
 "nbformat": 4,
 "nbformat_minor": 2
}
